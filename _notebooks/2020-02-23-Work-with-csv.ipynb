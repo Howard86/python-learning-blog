{
 "metadata": {
  "language_info": {
   "codemirror_mode": {
    "name": "ipython",
    "version": 3
   },
   "file_extension": ".py",
   "mimetype": "text/x-python",
   "name": "python",
   "nbconvert_exporter": "python",
   "pygments_lexer": "ipython3",
   "version": "2.7.17"
  },
  "orig_nbformat": 2,
  "kernelspec": {
   "name": "python3",
   "display_name": "Python 3",
   "language": "python"
  }
 },
 "nbformat": 4,
 "nbformat_minor": 2,
 "cells": [
  {
   "source": [
    "# Work with csv \n",
    "> A tutorial to kick start \n",
    "\n",
    "- toc: true \n",
    "- badges: true\n",
    "- categories: [data]"
   ],
   "cell_type": "markdown",
   "metadata": {}
  },
  {
   "source": [
    "## Read csv file\n",
    "\n",
    "Run the following script from [this example](https://docs.python.org/3/library/csv.html#examples)"
   ],
   "cell_type": "markdown",
   "metadata": {}
  },
  {
   "cell_type": "code",
   "execution_count": 1,
   "metadata": {},
   "outputs": [
    {
     "output_type": "stream",
     "name": "stdout",
     "text": [
      "['1', '2', '3', '4', '5']\n['6', '7', '8', '9', '10']\n"
     ]
    }
   ],
   "source": [
    "import csv \n",
    "\n",
    "with open('assets/first.csv') as f:\n",
    "    reader = csv.reader(f)\n",
    "    for row in reader:\n",
    "        print(row)"
   ]
  },
  {
   "source": [
    "We can see that it prints out the whole csv in `first.csv` file in `assets` folder\n",
    "\n",
    "Try editing that file to check!\n",
    "\n",
    "We can also rewrite it and group it like the following"
   ],
   "cell_type": "markdown",
   "metadata": {}
  },
  {
   "source": [
    "import csv \n",
    "\n",
    "def read_csv_rows(file_path):\n",
    "    with open(file_path) as f:\n",
    "        reader = csv.reader(f)\n",
    "        for row in reader:\n",
    "            print(row)\n",
    "\n",
    "if __name__ == \"__main__\":\n",
    "    read_csv_rows('assets/first.csv')\n"
   ],
   "cell_type": "code",
   "metadata": {},
   "execution_count": 2,
   "outputs": [
    {
     "output_type": "stream",
     "name": "stdout",
     "text": [
      "['1', '2', '3', '4', '5']\n['6', '7', '8', '9', '10']\n"
     ]
    }
   ]
  },
  {
   "source": [
    "## Write csv file\n",
    "\n",
    "How about create a csv file from scratch? "
   ],
   "cell_type": "markdown",
   "metadata": {}
  },
  {
   "cell_type": "code",
   "execution_count": 3,
   "metadata": {},
   "outputs": [
    {
     "output_type": "stream",
     "name": "stdout",
     "text": [
      "['Spam', 'Spam', 'Spam', 'Spam', 'Spam', 'Baked Beans']\n['Spam', 'Lovely Spam', 'Wonderful Spam']\n"
     ]
    }
   ],
   "source": [
    "import csv\n",
    "\n",
    "our_new_file = 'assets/_new.csv'\n",
    "\n",
    "# Create a new csv called _new.csv\n",
    "with open(our_new_file, 'w') as f:\n",
    "    spamwriter = csv.writer(f)\n",
    "    spamwriter.writerow(['Spam'] * 5 + ['Baked Beans'])\n",
    "    spamwriter.writerow(['Spam', 'Lovely Spam', 'Wonderful Spam'])\n",
    "\n",
    "# Read _new.csv just like we what did just now\n",
    "with open(our_new_file) as f:\n",
    "    reader = csv.reader(f)\n",
    "    for row in reader:\n",
    "        print(row)"
   ]
  },
  {
   "source": [
    "Here we go, we get a new csv file named `_new.csv` in `assets/` folder\n",
    "\n",
    "Put it all together, we have two functions"
   ],
   "cell_type": "markdown",
   "metadata": {}
  },
  {
   "source": [
    "import csv \n",
    "\n",
    "def read_csv_rows(file_path):\n",
    "    with open(file_path) as f:\n",
    "        reader = csv.reader(f)\n",
    "        for row in reader:\n",
    "            print(row)\n",
    "\n",
    "# here rows as a list of row\n",
    "def write_csv_rows(file_path, rows):\n",
    "    with open(file_path, 'w') as f:\n",
    "        writer = csv.writer(f)\n",
    "        for row in rows:\n",
    "            writer.writerow(row)\n",
    "    \n",
    "if __name__ == \"__main__\":\n",
    "    test_file_path = 'assets/_new.csv'\n",
    "    write_csv_rows(test_file_path, [\n",
    "        ['Hello', 'this', 'is', 'a', 'new', 'row'],\n",
    "        ['Hello', 'this', 'is', 'another', 'new', 'row'],\n",
    "        ['It', 'can', 'have', 'different', 'length'],\n",
    "    ])\n",
    "    read_csv_rows(test_file_path)\n",
    "        "
   ],
   "cell_type": "code",
   "metadata": {},
   "execution_count": 4,
   "outputs": [
    {
     "output_type": "stream",
     "name": "stdout",
     "text": [
      "['Hello', 'this', 'is', 'a', 'new', 'row']\n['Hello', 'this', 'is', 'another', 'new', 'row']\n['It', 'can', 'have', 'different', 'length']\n"
     ]
    }
   ]
  },
  {
   "cell_type": "code",
   "execution_count": null,
   "metadata": {},
   "outputs": [],
   "source": []
  }
 ]
}